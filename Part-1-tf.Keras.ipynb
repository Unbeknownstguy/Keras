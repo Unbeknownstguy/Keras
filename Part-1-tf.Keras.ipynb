{
 "cells": [
  {
   "cell_type": "markdown",
   "id": "3c7ea542",
   "metadata": {},
   "source": [
    "## Data_Pre-processing_and_Processing"
   ]
  },
  {
   "cell_type": "code",
   "execution_count": 3,
   "id": "a49e6e99",
   "metadata": {},
   "outputs": [],
   "source": [
    "import numpy as np\n",
    "from random import randint\n",
    "from sklearn.utils import shuffle\n",
    "from sklearn.preprocessing import MinMaxScaler"
   ]
  },
  {
   "cell_type": "code",
   "execution_count": 4,
   "id": "41ce66bc",
   "metadata": {},
   "outputs": [],
   "source": [
    "train_labels = []\n",
    "train_samples = []"
   ]
  },
  {
   "cell_type": "markdown",
   "id": "9921d9ad",
   "metadata": {},
   "source": [
    "Example data: \n",
    "\n",
    "<ul> \n",
    "<li>An experimental drug was tested on individuas from ages 13 to 65.</li>\n",
    "<li>The trial had 2100 participants. Half were usder 65 years old, half were over 65 years old.</li>\n",
    "<li>95% of patientes 65 or older experienced side effects.</li>\n",
    "<li>95% of patients under 65 experienced no side effects.</li>"
   ]
  },
  {
   "cell_type": "code",
   "execution_count": 5,
   "id": "ca87a74c",
   "metadata": {},
   "outputs": [],
   "source": [
    "for i in range(1000):\n",
    "  random_younger = randint(13, 64)\n",
    "  train_samples.append(random_younger)\n",
    "  train_labels.append(0)\n",
    "\n",
    "  random_older = randint(65, 100)\n",
    "  train_samples.append(random_older)\n",
    "  train_labels.append(1)\n",
    "\n",
    "for i in range(50):\n",
    "  random_younger = randint(13, 64)\n",
    "  train_samples.append(random_younger)\n",
    "  train_labels.append(1)\n",
    "\n",
    "  random_older = randint(65, 100)\n",
    "  train_samples.append(random_older)\n",
    "  train_labels.append(0)"
   ]
  },
  {
   "cell_type": "code",
   "execution_count": 8,
   "id": "6723ca09",
   "metadata": {},
   "outputs": [],
   "source": [
    "# print raw data\n",
    "for i in train_samples:\n",
    "  print(i)"
   ]
  },
  {
   "cell_type": "code",
   "execution_count": 9,
   "id": "2f8bf473",
   "metadata": {},
   "outputs": [],
   "source": [
    "for i in train_labels:\n",
    "  print(i)"
   ]
  },
  {
   "cell_type": "code",
   "execution_count": null,
   "id": "48515ca9",
   "metadata": {},
   "outputs": [],
   "source": []
  },
  {
   "cell_type": "code",
   "execution_count": 10,
   "id": "ba9beaa5",
   "metadata": {},
   "outputs": [],
   "source": [
    "train_labels = np.array(train_labels)\n",
    "train_samples = np.array(train_samples)\n",
    "train_labels, train_samples = shuffle(train_labels, train_samples)"
   ]
  },
  {
   "cell_type": "code",
   "execution_count": 11,
   "id": "fdb4adda",
   "metadata": {},
   "outputs": [],
   "source": [
    "scaler = MinMaxScaler(feature_range=(0,1))\n",
    "scaled_train_samples = scaler.fit_transform(train_samples.reshape(-1,1))"
   ]
  },
  {
   "cell_type": "code",
   "execution_count": 13,
   "id": "3f17fb61",
   "metadata": {},
   "outputs": [],
   "source": [
    "#print scaled data\n",
    "for i in scaled_train_samples:\n",
    "    print(i)"
   ]
  },
  {
   "cell_type": "code",
   "execution_count": null,
   "id": "d9933616",
   "metadata": {},
   "outputs": [],
   "source": []
  },
  {
   "cell_type": "code",
   "execution_count": null,
   "id": "3a95e671",
   "metadata": {},
   "outputs": [],
   "source": []
  },
  {
   "cell_type": "markdown",
   "id": "260b66de",
   "metadata": {},
   "source": [
    "## Simple tf.keras Sequential Model"
   ]
  },
  {
   "cell_type": "code",
   "execution_count": 14,
   "id": "575a2e53",
   "metadata": {},
   "outputs": [],
   "source": [
    "import tensorflow as tf\n",
    "from tensorflow import keras\n",
    "from tensorflow.keras.models import Sequential\n",
    "from tensorflow.keras.layers import Activation, Dense\n",
    "from tensorflow.keras.optimizers import Adam\n",
    "from tensorflow.keras.metrics import categorical_crossentropy"
   ]
  },
  {
   "cell_type": "code",
   "execution_count": 16,
   "id": "89923b39",
   "metadata": {},
   "outputs": [
    {
     "name": "stdout",
     "output_type": "stream",
     "text": [
      "Num GPUs Available:  1\n"
     ]
    }
   ],
   "source": [
    "physical_devices = tf.config.experimental.list_physical_devices('GPU')\n",
    "print(\"Num GPUs Available: \", len(physical_devices))\n",
    "tf.config.experimental.set_memory_growth(physical_devices[0], True)"
   ]
  },
  {
   "cell_type": "code",
   "execution_count": 17,
   "id": "b45c2e18",
   "metadata": {},
   "outputs": [],
   "source": [
    "model = Sequential([\n",
    "    Dense(units=16, input_shape=(1, ), activation='relu'),\n",
    "    Dense(units=32, activation='relu'),\n",
    "    Dense(units=2, activation='softmax')\n",
    "])"
   ]
  },
  {
   "cell_type": "code",
   "execution_count": 18,
   "id": "b9debf85",
   "metadata": {},
   "outputs": [
    {
     "name": "stdout",
     "output_type": "stream",
     "text": [
      "Model: \"sequential\"\n",
      "_________________________________________________________________\n",
      "Layer (type)                 Output Shape              Param #   \n",
      "=================================================================\n",
      "dense (Dense)                (None, 16)                32        \n",
      "_________________________________________________________________\n",
      "dense_1 (Dense)              (None, 32)                544       \n",
      "_________________________________________________________________\n",
      "dense_2 (Dense)              (None, 2)                 66        \n",
      "=================================================================\n",
      "Total params: 642\n",
      "Trainable params: 642\n",
      "Non-trainable params: 0\n",
      "_________________________________________________________________\n"
     ]
    }
   ],
   "source": [
    "model.summary()"
   ]
  },
  {
   "cell_type": "code",
   "execution_count": 19,
   "id": "c55f37d7",
   "metadata": {},
   "outputs": [],
   "source": [
    "model.compile(optimizer=Adam(learning_rate=0.0001), loss='sparse_categorical_crossentropy', metrics=['accuracy'])"
   ]
  },
  {
   "cell_type": "code",
   "execution_count": 23,
   "id": "28fc1bca",
   "metadata": {
    "scrolled": true
   },
   "outputs": [
    {
     "name": "stdout",
     "output_type": "stream",
     "text": [
      "Epoch 1/30\n",
      "189/189 - 1s - loss: 0.2556 - accuracy: 0.9429 - val_loss: 0.2417 - val_accuracy: 0.9476\n",
      "Epoch 2/30\n",
      "189/189 - 1s - loss: 0.2551 - accuracy: 0.9376 - val_loss: 0.2413 - val_accuracy: 0.9476\n",
      "Epoch 3/30\n",
      "189/189 - 1s - loss: 0.2548 - accuracy: 0.9418 - val_loss: 0.2411 - val_accuracy: 0.9476\n",
      "Epoch 4/30\n",
      "189/189 - 1s - loss: 0.2542 - accuracy: 0.9450 - val_loss: 0.2395 - val_accuracy: 0.9476\n",
      "Epoch 5/30\n",
      "189/189 - 1s - loss: 0.2540 - accuracy: 0.9407 - val_loss: 0.2395 - val_accuracy: 0.9476\n",
      "Epoch 6/30\n",
      "189/189 - 1s - loss: 0.2536 - accuracy: 0.9423 - val_loss: 0.2391 - val_accuracy: 0.9476\n",
      "Epoch 7/30\n",
      "189/189 - 1s - loss: 0.2533 - accuracy: 0.9402 - val_loss: 0.2388 - val_accuracy: 0.9476\n",
      "Epoch 8/30\n",
      "189/189 - 1s - loss: 0.2529 - accuracy: 0.9460 - val_loss: 0.2379 - val_accuracy: 0.9476\n",
      "Epoch 9/30\n",
      "189/189 - 1s - loss: 0.2526 - accuracy: 0.9402 - val_loss: 0.2372 - val_accuracy: 0.9476\n",
      "Epoch 10/30\n",
      "189/189 - 1s - loss: 0.2523 - accuracy: 0.9444 - val_loss: 0.2365 - val_accuracy: 0.9476\n",
      "Epoch 11/30\n",
      "189/189 - 1s - loss: 0.2520 - accuracy: 0.9450 - val_loss: 0.2358 - val_accuracy: 0.9476\n",
      "Epoch 12/30\n",
      "189/189 - 1s - loss: 0.2517 - accuracy: 0.9429 - val_loss: 0.2353 - val_accuracy: 0.9476\n",
      "Epoch 13/30\n",
      "189/189 - 1s - loss: 0.2514 - accuracy: 0.9439 - val_loss: 0.2351 - val_accuracy: 0.9476\n",
      "Epoch 14/30\n",
      "189/189 - 1s - loss: 0.2512 - accuracy: 0.9402 - val_loss: 0.2361 - val_accuracy: 0.9476\n",
      "Epoch 15/30\n",
      "189/189 - 1s - loss: 0.2509 - accuracy: 0.9439 - val_loss: 0.2352 - val_accuracy: 0.9476\n",
      "Epoch 16/30\n",
      "189/189 - 1s - loss: 0.2507 - accuracy: 0.9444 - val_loss: 0.2347 - val_accuracy: 0.9476\n",
      "Epoch 17/30\n",
      "189/189 - 1s - loss: 0.2505 - accuracy: 0.9455 - val_loss: 0.2341 - val_accuracy: 0.9476\n",
      "Epoch 18/30\n",
      "189/189 - 1s - loss: 0.2502 - accuracy: 0.9460 - val_loss: 0.2332 - val_accuracy: 0.9476\n",
      "Epoch 19/30\n",
      "189/189 - 1s - loss: 0.2501 - accuracy: 0.9439 - val_loss: 0.2333 - val_accuracy: 0.9476\n",
      "Epoch 20/30\n",
      "189/189 - 1s - loss: 0.2498 - accuracy: 0.9460 - val_loss: 0.2329 - val_accuracy: 0.9476\n",
      "Epoch 21/30\n",
      "189/189 - 1s - loss: 0.2496 - accuracy: 0.9444 - val_loss: 0.2333 - val_accuracy: 0.9476\n",
      "Epoch 22/30\n",
      "189/189 - 1s - loss: 0.2494 - accuracy: 0.9460 - val_loss: 0.2323 - val_accuracy: 0.9476\n",
      "Epoch 23/30\n",
      "189/189 - 1s - loss: 0.2492 - accuracy: 0.9460 - val_loss: 0.2319 - val_accuracy: 0.9476\n",
      "Epoch 24/30\n",
      "189/189 - 1s - loss: 0.2490 - accuracy: 0.9460 - val_loss: 0.2312 - val_accuracy: 0.9476\n",
      "Epoch 25/30\n",
      "189/189 - 1s - loss: 0.2489 - accuracy: 0.9455 - val_loss: 0.2312 - val_accuracy: 0.9476\n",
      "Epoch 26/30\n",
      "189/189 - 1s - loss: 0.2489 - accuracy: 0.9439 - val_loss: 0.2314 - val_accuracy: 0.9476\n",
      "Epoch 27/30\n",
      "189/189 - 1s - loss: 0.2485 - accuracy: 0.9460 - val_loss: 0.2315 - val_accuracy: 0.9476\n",
      "Epoch 28/30\n",
      "189/189 - 1s - loss: 0.2485 - accuracy: 0.9444 - val_loss: 0.2312 - val_accuracy: 0.9476\n",
      "Epoch 29/30\n",
      "189/189 - 1s - loss: 0.2481 - accuracy: 0.9460 - val_loss: 0.2298 - val_accuracy: 0.9476\n",
      "Epoch 30/30\n",
      "189/189 - 1s - loss: 0.2480 - accuracy: 0.9418 - val_loss: 0.2316 - val_accuracy: 0.9476\n"
     ]
    },
    {
     "data": {
      "text/plain": [
       "<keras.callbacks.History at 0x2ac08759880>"
      ]
     },
     "execution_count": 23,
     "metadata": {},
     "output_type": "execute_result"
    }
   ],
   "source": [
    "model.fit(x=scaled_train_samples, y=train_labels, validation_split=0.1, batch_size=10, epochs=30, shuffle=True, verbose=2)"
   ]
  },
  {
   "cell_type": "code",
   "execution_count": null,
   "id": "046a34a3",
   "metadata": {},
   "outputs": [],
   "source": []
  },
  {
   "cell_type": "code",
   "execution_count": null,
   "id": "5c31e317",
   "metadata": {},
   "outputs": [],
   "source": []
  },
  {
   "cell_type": "code",
   "execution_count": null,
   "id": "8788d471",
   "metadata": {},
   "outputs": [],
   "source": []
  },
  {
   "cell_type": "markdown",
   "id": "18ec101d",
   "metadata": {},
   "source": [
    "## Preprocessing Test Data"
   ]
  },
  {
   "cell_type": "code",
   "execution_count": 25,
   "id": "ca7d2189",
   "metadata": {},
   "outputs": [],
   "source": [
    "test_labels = []\n",
    "test_samples = []"
   ]
  },
  {
   "cell_type": "code",
   "execution_count": 27,
   "id": "8318345d",
   "metadata": {},
   "outputs": [],
   "source": [
    "for i in range(10):\n",
    "    # The 5% younger individuals who did experience side effects\n",
    "    random_younger = randint(13, 64)\n",
    "    test_samples.append(random_younger)\n",
    "    test_labels.append(1)\n",
    "    \n",
    "    # the 5% of older individuals who did not experience side effects\n",
    "    random_older = randint(65, 100)\n",
    "    test_samples.append(random_older)\n",
    "    test_labels.append(0)\n",
    "    \n",
    "for i in range(200):\n",
    "    # the 95% of younger individuals who did not experience side effects\n",
    "    random_younger = randint(13, 64)\n",
    "    test_samples.append(random_younger)\n",
    "    test_labels.append(0)\n",
    "    \n",
    "    # the 95% of older individuals who did experience side effects\n",
    "    random_older = randint(65, 100)\n",
    "    test_samples.append(random_older)\n",
    "    test_labels.append(1)"
   ]
  },
  {
   "cell_type": "code",
   "execution_count": 29,
   "id": "79aeba26",
   "metadata": {},
   "outputs": [],
   "source": [
    "test_labels = np.array(test_labels)\n",
    "test_samples = np.array(test_samples)\n",
    "test_labels, test_samples = shuffle(test_samples, test_samples)"
   ]
  },
  {
   "cell_type": "code",
   "execution_count": 30,
   "id": "eb90d2d1",
   "metadata": {},
   "outputs": [],
   "source": [
    "scaled_test_samples = scaler.fit_transform(test_samples.reshape(-1, 1))"
   ]
  },
  {
   "cell_type": "code",
   "execution_count": null,
   "id": "d0a044c7",
   "metadata": {},
   "outputs": [],
   "source": []
  },
  {
   "cell_type": "markdown",
   "id": "3dde4998",
   "metadata": {},
   "source": [
    "## Predict"
   ]
  },
  {
   "cell_type": "code",
   "execution_count": 31,
   "id": "7808b526",
   "metadata": {},
   "outputs": [],
   "source": [
    "predictions = model.predict(x=scaled_test_samples, batch_size=10, verbose=0)"
   ]
  },
  {
   "cell_type": "code",
   "execution_count": 41,
   "id": "e490ed40",
   "metadata": {},
   "outputs": [],
   "source": [
    "for i in predictions:   # [not experiencing, experiencing]\n",
    "    print(i)"
   ]
  },
  {
   "cell_type": "code",
   "execution_count": null,
   "id": "f00fa9f1",
   "metadata": {},
   "outputs": [],
   "source": []
  },
  {
   "cell_type": "code",
   "execution_count": 39,
   "id": "78fc583a",
   "metadata": {},
   "outputs": [],
   "source": [
    "rounded_predictions = np.argmax(predictions, axis=-1)"
   ]
  },
  {
   "cell_type": "code",
   "execution_count": 42,
   "id": "07c05068",
   "metadata": {},
   "outputs": [],
   "source": [
    "for i in rounded_predictions:\n",
    "    print(i)"
   ]
  },
  {
   "cell_type": "code",
   "execution_count": null,
   "id": "407f9522",
   "metadata": {},
   "outputs": [],
   "source": []
  },
  {
   "cell_type": "code",
   "execution_count": null,
   "id": "d73acd9f",
   "metadata": {},
   "outputs": [],
   "source": []
  },
  {
   "cell_type": "markdown",
   "id": "bdc3c055",
   "metadata": {},
   "source": [
    "## Confusion Matrix\n",
    "\n",
    "Using a confusion matrix we can visually observe how well a model predicts on test data."
   ]
  },
  {
   "cell_type": "code",
   "execution_count": 43,
   "id": "b14b4b4f",
   "metadata": {},
   "outputs": [],
   "source": [
    "%matplotlib inline\n",
    "from sklearn.metrics import confusion_matrix\n",
    "import itertools\n",
    "import matplotlib.pyplot as plt"
   ]
  },
  {
   "cell_type": "code",
   "execution_count": null,
   "id": "f7c4b179",
   "metadata": {},
   "outputs": [],
   "source": []
  },
  {
   "cell_type": "markdown",
   "id": "31c963a0",
   "metadata": {},
   "source": [
    "We create a confusion matrix by calling a function confusion matrix from sklearn."
   ]
  },
  {
   "cell_type": "code",
   "execution_count": 44,
   "id": "89f00ee6",
   "metadata": {},
   "outputs": [],
   "source": [
    "cm = confusion_matrix(y_true= test_labels, y_pred=rounded_predictions)"
   ]
  },
  {
   "cell_type": "code",
   "execution_count": 45,
   "id": "e6b1333a",
   "metadata": {},
   "outputs": [],
   "source": [
    "def plot_confusion_matrix(cm, classes,\n",
    "                        normalize=False,\n",
    "                        title='Confusion matrix',\n",
    "                        cmap=plt.cm.Blues):\n",
    "    \"\"\"\n",
    "    This function prints and plots the confusion matrix.\n",
    "    Normalization can be applied by setting `normalize=True`.\n",
    "    \"\"\"\n",
    "    plt.imshow(cm, interpolation='nearest', cmap=cmap)\n",
    "    plt.title(title)\n",
    "    plt.colorbar()\n",
    "    tick_marks = np.arange(len(classes))\n",
    "    plt.xticks(tick_marks, classes, rotation=45)\n",
    "    plt.yticks(tick_marks, classes)\n",
    "\n",
    "    if normalize:\n",
    "        cm = cm.astype('float') / cm.sum(axis=1)[:, np.newaxis]\n",
    "        print(\"Normalized confusion matrix\")\n",
    "    else:\n",
    "        print('Confusion matrix, without normalization')\n",
    "\n",
    "    print(cm)\n",
    "\n",
    "    \n",
    "    thresh = cm.max() / 2.\n",
    "    for i, j in itertools.product(range(cm.shape[0]), range(cm.shape[1])):\n",
    "        plt.text(j, i, cm[i, j],\n",
    "            horizontalalignment=\"center\",\n",
    "            color=\"white\" if cm[i, j] > thresh else \"black\")\n",
    "\n",
    "    plt.tight_layout()\n",
    "    plt.ylabel('True label')\n",
    "    plt.xlabel('Predicted label')"
   ]
  },
  {
   "cell_type": "code",
   "execution_count": 48,
   "id": "a1bdb943",
   "metadata": {},
   "outputs": [
    {
     "name": "stdout",
     "output_type": "stream",
     "text": [
      "Confusion matrix, without normalization\n",
      "[[ 0  0  0 ...  0  0  0]\n",
      " [ 0  0  0 ...  0  0  0]\n",
      " [ 3  0  0 ...  0  0  0]\n",
      " ...\n",
      " [ 0 12  0 ...  0  0  0]\n",
      " [ 0  2  0 ...  0  0  0]\n",
      " [ 0  7  0 ...  0  0  0]]\n"
     ]
    },
    {
     "data": {
      "image/png": "[encoded data removed]",
      "text/plain": [
       "<Figure size 432x288 with 2 Axes>"
      ]
     },
     "metadata": {
      "needs_background": "light"
     },
     "output_type": "display_data"
    }
   ],
   "source": [
    "cm_plot_labels = ['no_side_effects','had_side_effects']\n",
    "plot_confusion_matrix(cm=cm, classes=cm_plot_labels, title='Confusion Matrix')"
   ]
  },
  {
   "cell_type": "code",
   "execution_count": null,
   "id": "3f56b986",
   "metadata": {},
   "outputs": [],
   "source": []
  },
  {
   "cell_type": "code",
   "execution_count": null,
   "id": "3018a12f",
   "metadata": {},
   "outputs": [],
   "source": []
  },
  {
   "cell_type": "markdown",
   "id": "c00fcc94",
   "metadata": {},
   "source": [
    "## Save and Load a Model"
   ]
  },
  {
   "cell_type": "code",
   "execution_count": 49,
   "id": "56b9d314",
   "metadata": {},
   "outputs": [
    {
     "name": "stdout",
     "output_type": "stream",
     "text": [
      "Model: \"sequential\"\n",
      "_________________________________________________________________\n",
      "Layer (type)                 Output Shape              Param #   \n",
      "=================================================================\n",
      "dense (Dense)                (None, 16)                32        \n",
      "_________________________________________________________________\n",
      "dense_1 (Dense)              (None, 32)                544       \n",
      "_________________________________________________________________\n",
      "dense_2 (Dense)              (None, 2)                 66        \n",
      "=================================================================\n",
      "Total params: 642\n",
      "Trainable params: 642\n",
      "Non-trainable params: 0\n",
      "_________________________________________________________________\n"
     ]
    }
   ],
   "source": [
    "model.summary()"
   ]
  },
  {
   "cell_type": "code",
   "execution_count": null,
   "id": "96229186",
   "metadata": {},
   "outputs": [],
   "source": []
  },
  {
   "cell_type": "markdown",
   "id": "00fa2408",
   "metadata": {},
   "source": [
    "### 1. model.save()"
   ]
  },
  {
   "cell_type": "code",
   "execution_count": 53,
   "id": "def2d42c",
   "metadata": {},
   "outputs": [],
   "source": [
    "#cheks first to see if file exists already.\n",
    "# if not, the model is saved to disk.\n",
    "import os.path\n",
    "if os.path.isfile('models/medical_trial_model.h5') is False:\n",
    "    model.save('models/medical_trial_model.h5')"
   ]
  },
  {
   "cell_type": "markdown",
   "id": "224c3c7e",
   "metadata": {},
   "source": [
    "This save function saves\n",
    "\n",
    "<ul>\n",
    "    <li>The architecture of the model, allowing to re-create the model.</li>\n",
    "    <li>The weight of the model</li>\n",
    "    <li>The training configuration (loss, optimizer).</li>\n",
    "    <li>The state of the optimizer, allowing to resume training exactly where you left off.</li>"
   ]
  },
  {
   "cell_type": "code",
   "execution_count": 54,
   "id": "09e429ce",
   "metadata": {},
   "outputs": [],
   "source": [
    "from tensorflow.keras.models import load_model\n",
    "new_model = load_model('models/medical_trial_model.h5')"
   ]
  },
  {
   "cell_type": "code",
   "execution_count": 58,
   "id": "0e4e3d99",
   "metadata": {},
   "outputs": [
    {
     "name": "stdout",
     "output_type": "stream",
     "text": [
      "Model: \"sequential\"\n",
      "_________________________________________________________________\n",
      "Layer (type)                 Output Shape              Param #   \n",
      "=================================================================\n",
      "dense (Dense)                (None, 16)                32        \n",
      "_________________________________________________________________\n",
      "dense_1 (Dense)              (None, 32)                544       \n",
      "_________________________________________________________________\n",
      "dense_2 (Dense)              (None, 2)                 66        \n",
      "=================================================================\n",
      "Total params: 642\n",
      "Trainable params: 642\n",
      "Non-trainable params: 0\n",
      "_________________________________________________________________\n"
     ]
    }
   ],
   "source": [
    "new_model.summary()"
   ]
  },
  {
   "cell_type": "code",
   "execution_count": 60,
   "id": "6815ac29",
   "metadata": {},
   "outputs": [
    {
     "data": {
      "text/plain": [
       "[array([[-0.42241406, -0.38203967, -0.02721258, -0.54164356,  0.6102464 ,\n",
       "          0.40460378, -0.23476765, -0.07084125, -0.56571007, -0.16572338,\n",
       "         -0.18442109, -0.56693935,  0.40097535,  0.48042542,  0.75630647,\n",
       "          0.12848113]], dtype=float32),\n",
       " array([ 0.        ,  0.        ,  0.28391182,  0.        , -0.18215708,\n",
       "        -0.16334262,  0.        ,  0.        ,  0.        ,  0.        ,\n",
       "         0.        ,  0.        , -0.14447428, -0.1541767 , -0.17822003,\n",
       "         0.2311643 ], dtype=float32),\n",
       " array([[-2.75583327e-01,  2.17083126e-01, -2.03240871e-01,\n",
       "          2.00031191e-01, -3.50714207e-01,  2.69574434e-01,\n",
       "          2.15771884e-01, -7.59751797e-02, -2.78102458e-02,\n",
       "         -3.51226717e-01,  2.82922238e-01, -5.49993515e-02,\n",
       "          1.26822561e-01, -3.27928692e-01, -3.12163144e-01,\n",
       "          3.02115530e-01,  3.03506881e-01,  1.16831481e-01,\n",
       "         -1.62134543e-01, -1.87349737e-01,  1.91782415e-02,\n",
       "         -1.47039562e-01, -1.08639479e-01, -1.61047906e-01,\n",
       "         -2.47979313e-01,  8.10793936e-02,  1.06322676e-01,\n",
       "          3.16771656e-01,  3.03309113e-01,  9.39836800e-02,\n",
       "         -2.58866519e-01,  3.32348794e-01],\n",
       "        [ 1.43940687e-01, -3.24063748e-01,  3.34839672e-01,\n",
       "         -3.42186213e-01,  1.59484416e-01, -3.38609368e-01,\n",
       "          2.33760744e-01, -2.85905004e-01, -5.03616929e-02,\n",
       "         -2.03310490e-01,  2.87299663e-01, -1.53944060e-01,\n",
       "         -3.19265306e-01,  1.79397136e-01, -1.87023431e-01,\n",
       "          3.43771547e-01,  1.44526601e-01,  1.38682842e-01,\n",
       "          1.29255056e-02,  6.57609105e-03,  2.85571367e-01,\n",
       "          1.41188741e-01,  1.86877698e-01,  1.32152289e-01,\n",
       "          2.68057853e-01,  1.79739445e-01, -1.91054866e-01,\n",
       "         -2.74671078e-01,  3.05698186e-01,  2.09427625e-01,\n",
       "          7.77872205e-02,  2.65352994e-01],\n",
       "        [-5.58365174e-02,  8.10920373e-02,  2.83793807e-01,\n",
       "          2.73252040e-01, -1.12313144e-01,  1.06498182e-01,\n",
       "          4.49238494e-02, -2.55245566e-02, -1.28138810e-01,\n",
       "          2.40680408e-02,  7.63835385e-02, -2.66263306e-01,\n",
       "         -2.85509944e-01,  1.77691534e-01, -3.18744123e-01,\n",
       "          4.39205825e-01,  1.17994942e-01,  2.73579061e-01,\n",
       "         -2.09012032e-01, -1.85329810e-01,  3.66316512e-02,\n",
       "         -5.62611334e-02, -2.99975902e-01,  1.77972198e-01,\n",
       "          2.34621808e-01,  2.43639097e-01,  5.74545413e-02,\n",
       "         -1.22013569e-01, -6.89574778e-02,  4.11292493e-01,\n",
       "         -1.17893666e-01, -1.03781179e-01],\n",
       "        [-2.34111905e-01, -1.88778684e-01,  3.22634012e-01,\n",
       "         -5.51796556e-02, -3.31909209e-01,  2.46929258e-01,\n",
       "         -1.03926629e-01, -1.87324286e-02,  2.99436897e-01,\n",
       "          2.62191743e-01,  6.14731014e-02,  1.32600665e-02,\n",
       "         -2.80629903e-01,  2.92542845e-01, -2.35853001e-01,\n",
       "         -2.17384756e-01, -2.46638894e-01, -2.19997868e-01,\n",
       "          6.72708452e-02,  1.80599719e-01, -7.35642016e-02,\n",
       "          1.09186053e-01,  3.25602025e-01,  4.91046906e-02,\n",
       "         -2.32720643e-01,  5.18981814e-02, -2.06474796e-01,\n",
       "          1.24096096e-01, -1.47536471e-01,  1.26463711e-01,\n",
       "         -2.98931330e-01, -7.75973201e-02],\n",
       "        [-4.40348126e-02,  4.62535881e-02, -1.14328042e-01,\n",
       "         -5.18266082e-01,  1.58195198e-01, -3.43302846e-01,\n",
       "          4.55452412e-01, -1.68122932e-01,  6.30165339e-02,\n",
       "          6.17448568e-01, -3.02764550e-02,  1.76624864e-01,\n",
       "          5.38548291e-01,  4.92304444e-01, -2.59106010e-01,\n",
       "         -5.63388586e-01, -1.40432552e-01, -1.34299830e-01,\n",
       "         -1.91828936e-01, -2.38173679e-01,  5.33822298e-01,\n",
       "          2.77167372e-02, -9.00400877e-02, -3.18054825e-01,\n",
       "          4.15930957e-01, -6.47472560e-01, -3.12806398e-01,\n",
       "          1.45113096e-01, -1.37037694e-01, -6.33630931e-01,\n",
       "          1.91948742e-01,  5.98856449e-01],\n",
       "        [-3.51837754e-01, -1.38592720e-01, -6.08019829e-02,\n",
       "         -5.81389666e-01,  1.12204596e-01,  1.31699711e-01,\n",
       "          3.09598725e-02, -3.10486555e-03,  2.81694025e-01,\n",
       "          3.20740759e-01, -5.89960217e-01, -1.70670152e-02,\n",
       "          2.59938061e-01,  6.45867527e-01,  1.94689035e-02,\n",
       "         -3.56656730e-01, -6.03943825e-01, -6.68695271e-02,\n",
       "         -1.39171585e-01, -1.66747764e-01,  2.56533355e-01,\n",
       "          1.30050272e-01,  1.61540538e-01, -6.85421228e-01,\n",
       "          3.50598484e-01, -2.73618072e-01,  3.91550064e-02,\n",
       "          6.17061377e-01, -2.90487468e-01, -3.45103264e-01,\n",
       "          1.19134724e-01,  4.97564167e-01],\n",
       "        [-2.65203059e-01,  2.71306366e-01,  3.53285760e-01,\n",
       "          5.81408143e-02, -1.17985636e-01, -2.41890192e-01,\n",
       "         -1.18004769e-01, -1.66849762e-01,  1.94451898e-01,\n",
       "          2.80578643e-01, -2.35770479e-01,  2.89422423e-01,\n",
       "         -5.49582243e-02, -2.67753184e-01, -1.50949657e-02,\n",
       "          2.47754425e-01,  6.17185831e-02, -3.32897633e-01,\n",
       "          1.43898726e-02,  1.75421983e-01, -1.05295047e-01,\n",
       "          3.29920560e-01,  2.33054847e-01, -7.85294473e-02,\n",
       "          1.39704913e-01,  1.38828456e-02, -3.46597135e-01,\n",
       "         -5.14854789e-02,  2.69882977e-02,  1.87323958e-01,\n",
       "          1.17395580e-01, -4.57541943e-02],\n",
       "        [ 6.10923469e-02, -2.91015804e-01, -2.09474221e-01,\n",
       "         -3.16171229e-01,  1.19622529e-01, -3.31704468e-01,\n",
       "         -1.62415653e-01,  8.73952806e-02, -6.41911626e-02,\n",
       "          2.70827442e-01, -1.65101171e-01, -1.68808326e-01,\n",
       "         -2.29948997e-01,  3.22855324e-01,  8.04125667e-02,\n",
       "         -1.46239191e-01, -2.02220917e-01, -2.63619006e-01,\n",
       "          2.53799707e-01, -2.37985134e-01,  3.38757038e-02,\n",
       "         -1.57520384e-01, -5.86183369e-02,  7.07557797e-02,\n",
       "         -4.18927073e-02,  1.69963390e-01,  1.82964116e-01,\n",
       "         -1.15926340e-01, -2.69428611e-01,  1.62200332e-02,\n",
       "          1.93257719e-01,  2.65046924e-01],\n",
       "        [-6.08760715e-02,  6.18735850e-02, -3.37061077e-01,\n",
       "          5.21150827e-02,  2.59209126e-01,  9.33759212e-02,\n",
       "          2.98375815e-01,  1.15173936e-01,  1.79723352e-01,\n",
       "          1.31624937e-01,  2.30501622e-01, -4.64631915e-02,\n",
       "          1.95343167e-01,  1.99748605e-01, -9.01943445e-02,\n",
       "          3.19210857e-01,  3.04133445e-01,  2.37553149e-01,\n",
       "          1.56392962e-01,  1.05589241e-01, -2.82908112e-01,\n",
       "          7.82414973e-02, -1.61095783e-01,  1.36792898e-01,\n",
       "          1.99536234e-01,  1.79997891e-01,  2.92334586e-01,\n",
       "         -8.12057555e-02, -3.17658186e-01, -2.54816294e-01,\n",
       "         -2.96246707e-02,  8.14916193e-02],\n",
       "        [ 3.00203413e-01, -1.74639851e-01, -3.43169868e-02,\n",
       "          1.25118405e-01,  2.90352136e-01,  6.37117028e-02,\n",
       "         -6.86219037e-02, -1.64790466e-01, -1.32343635e-01,\n",
       "         -1.87636003e-01, -2.41139561e-01, -1.23266965e-01,\n",
       "         -2.04376310e-01, -1.23609900e-02,  2.81545430e-01,\n",
       "          3.19082350e-01,  2.63574094e-01,  2.89619714e-01,\n",
       "         -3.09498042e-01,  2.58199364e-01,  1.96841568e-01,\n",
       "          2.59921879e-01, -1.65940985e-01, -2.93938100e-01,\n",
       "          2.71205217e-01,  2.51812845e-01,  3.20948571e-01,\n",
       "         -1.45039439e-01, -2.62835413e-01,  1.40679866e-01,\n",
       "          2.70045251e-01,  1.61828309e-01],\n",
       "        [ 2.90656358e-01, -2.17905194e-01,  3.22680384e-01,\n",
       "         -1.83565110e-01,  3.50940555e-01,  3.00866395e-01,\n",
       "         -2.70705909e-01, -2.98006952e-01, -2.51628458e-02,\n",
       "         -2.08544791e-01, -1.32757008e-01, -2.41538197e-01,\n",
       "         -2.50381440e-01,  3.30812782e-01,  1.34099633e-01,\n",
       "          1.47705466e-01,  9.53148305e-02, -2.94073820e-02,\n",
       "         -2.18243718e-01, -2.80950636e-01, -6.86675012e-02,\n",
       "         -3.40593636e-01, -2.56097734e-01,  7.51119256e-02,\n",
       "         -6.67344630e-02,  2.81394333e-01,  1.03584230e-02,\n",
       "         -2.38774791e-01,  3.35224956e-01,  1.12674952e-01,\n",
       "         -2.83234656e-01,  3.14686686e-01],\n",
       "        [ 8.50967765e-02, -1.02290481e-01, -2.33544528e-01,\n",
       "         -1.63871050e-02,  8.51309896e-02,  2.40914494e-01,\n",
       "         -3.06043774e-01,  8.71112049e-02, -2.58000165e-01,\n",
       "         -1.96817100e-01, -9.87172723e-02, -2.28535891e-01,\n",
       "          2.99526006e-01, -2.05134019e-01,  2.48457283e-01,\n",
       "          4.78736758e-02,  1.93588138e-02, -3.25271785e-02,\n",
       "          8.43288600e-02,  1.75982922e-01, -2.05034211e-01,\n",
       "         -6.08306229e-02,  1.25609398e-01,  3.10612768e-01,\n",
       "         -2.54254490e-01, -2.46157572e-01, -3.51488203e-01,\n",
       "         -2.86303371e-01,  3.19033861e-02,  7.70724118e-02,\n",
       "         -1.72451407e-01,  2.29391187e-01],\n",
       "        [-1.74315438e-01, -1.47520438e-01,  1.36427581e-02,\n",
       "         -5.33436686e-02,  3.50165665e-01, -1.34168506e-01,\n",
       "          4.62673567e-02, -8.11395049e-03,  1.63938612e-01,\n",
       "          6.24081016e-01, -6.13038301e-01, -1.00225806e-01,\n",
       "          6.38465285e-01,  5.19240797e-01,  1.83460504e-01,\n",
       "          8.42982382e-02, -6.51882648e-01,  3.03077102e-02,\n",
       "         -1.83696032e-01,  5.86755499e-02, -6.14856482e-02,\n",
       "          3.18472624e-01,  2.21315116e-01, -2.22015798e-01,\n",
       "          1.02706477e-01, -3.50951105e-01, -2.85642266e-01,\n",
       "          3.98909062e-01, -1.77397594e-01, -4.65721518e-01,\n",
       "         -3.19340587e-01,  5.27958989e-01],\n",
       "        [ 3.13500702e-01, -3.02166402e-01,  3.10033113e-01,\n",
       "         -4.63536978e-01,  5.43485582e-01, -2.66768992e-01,\n",
       "          5.02545357e-01, -1.89433992e-02,  7.33440220e-02,\n",
       "          5.76497495e-01, -6.01417124e-01,  1.19510591e-01,\n",
       "          4.14754093e-01,  3.81160080e-01, -1.45504236e-01,\n",
       "          6.57040849e-02,  1.39935631e-02, -1.20299071e-01,\n",
       "          2.34837443e-01, -1.58385202e-01,  1.38825327e-01,\n",
       "          5.75877845e-01, -1.29247695e-01, -5.91935754e-01,\n",
       "          5.33307672e-01, -6.03118360e-01, -2.29264855e-01,\n",
       "          6.23851061e-01,  3.30119878e-01, -3.33367020e-01,\n",
       "          6.55605197e-02,  4.66932267e-01],\n",
       "        [-1.75547257e-01, -4.05225786e-04, -2.51870245e-01,\n",
       "         -4.94383007e-01,  5.52526951e-01,  3.13081175e-01,\n",
       "          4.76900876e-01, -2.58180797e-01, -2.90403485e-01,\n",
       "         -5.68519086e-02, -2.78913468e-01, -3.37595075e-01,\n",
       "          6.29707456e-01, -4.41130958e-02,  2.89153457e-02,\n",
       "         -1.66242048e-02, -1.71725918e-02,  1.43182188e-01,\n",
       "         -1.00553542e-01,  5.78186326e-02,  4.29282814e-01,\n",
       "          4.91128027e-01, -1.19215310e-01, -4.36696082e-01,\n",
       "          1.48402393e-01, -2.57595628e-01, -2.74265677e-01,\n",
       "          3.68409902e-01, -2.72475004e-01, -3.49855155e-01,\n",
       "         -2.26631194e-01,  5.30751050e-01],\n",
       "        [ 1.00427426e-01,  1.15235336e-01, -1.98296949e-01,\n",
       "          3.49213362e-01, -4.81119230e-02, -2.43751571e-01,\n",
       "          3.34110647e-01, -1.79755121e-01, -2.97197163e-01,\n",
       "          1.67073123e-02,  2.42340162e-01, -2.65870571e-01,\n",
       "         -1.63280174e-01, -2.46390663e-02, -3.43857825e-01,\n",
       "         -6.61575496e-02, -1.30492300e-01, -3.26703697e-01,\n",
       "         -1.80155441e-01,  2.64901459e-01,  1.71002999e-01,\n",
       "         -1.48184597e-01,  1.04116708e-01,  3.62445384e-01,\n",
       "         -1.39141783e-01,  2.11225301e-01, -9.55720339e-03,\n",
       "         -1.73931330e-01, -1.23609707e-01,  2.21386090e-01,\n",
       "         -1.72414497e-01,  3.02041858e-01]], dtype=float32),\n",
       " array([-0.01288681,  0.15782225, -0.03633998,  0.25533822, -0.10342656,\n",
       "         0.        , -0.19312355,  0.        ,  0.        , -0.12192218,\n",
       "         0.25327128,  0.        , -0.07417894, -0.13522409,  0.        ,\n",
       "         0.17963228,  0.19603537, -0.00681943,  0.        , -0.0252506 ,\n",
       "        -0.16581857, -0.07827751,  0.        ,  0.26779363, -0.12804908,\n",
       "         0.28716427, -0.01658408, -0.06284888,  0.        ,  0.2424693 ,\n",
       "         0.        , -0.16825867], dtype=float32),\n",
       " array([[-0.28099242, -0.08700129],\n",
       "        [-0.04933285, -0.3209733 ],\n",
       "        [-0.3511936 ,  0.33878553],\n",
       "        [ 0.9601517 , -0.58806515],\n",
       "        [-0.5608393 ,  0.19061133],\n",
       "        [-0.3111896 ,  0.28506294],\n",
       "        [-0.45401403,  0.44734168],\n",
       "        [ 0.32213643, -0.32993585],\n",
       "        [-0.07129833, -0.300521  ],\n",
       "        [-0.6404789 ,  0.21153964],\n",
       "        [ 0.7566264 , -0.55842465],\n",
       "        [-0.21373156, -0.10973334],\n",
       "        [-0.27292126,  0.44699675],\n",
       "        [-0.6159503 ,  0.23955193],\n",
       "        [-0.23647183, -0.06820983],\n",
       "        [ 0.5097289 , -0.31063443],\n",
       "        [ 0.5935744 , -0.20841089],\n",
       "        [-0.32651475,  0.36746287],\n",
       "        [-0.29568017,  0.3750666 ],\n",
       "        [ 0.02032917,  0.2671865 ],\n",
       "        [-0.40334055,  0.2561909 ],\n",
       "        [-0.66857743,  0.5557261 ],\n",
       "        [-0.3680087 ,  0.08214459],\n",
       "        [ 0.64766055, -0.45160538],\n",
       "        [-0.38275862,  0.44868445],\n",
       "        [ 0.6909715 , -0.43128988],\n",
       "        [-0.14354947, -0.00258989],\n",
       "        [-0.53380233,  0.47057423],\n",
       "        [ 0.13660744, -0.15159076],\n",
       "        [ 0.59910685, -0.7917995 ],\n",
       "        [-0.02121651,  0.22979203],\n",
       "        [-0.04820265,  0.6699906 ]], dtype=float32),\n",
       " array([ 0.16436677, -0.16436674], dtype=float32)]"
      ]
     },
     "execution_count": 60,
     "metadata": {},
     "output_type": "execute_result"
    }
   ],
   "source": [
    "new_model.get_weights()"
   ]
  },
  {
   "cell_type": "code",
   "execution_count": 61,
   "id": "0d934a5d",
   "metadata": {},
   "outputs": [
    {
     "data": {
      "text/plain": [
       "<keras.optimizer_v2.adam.Adam at 0x2ac32a2c070>"
      ]
     },
     "execution_count": 61,
     "metadata": {},
     "output_type": "execute_result"
    }
   ],
   "source": [
    "new_model.optimizer"
   ]
  },
  {
   "cell_type": "code",
   "execution_count": null,
   "id": "056444e8",
   "metadata": {},
   "outputs": [],
   "source": []
  },
  {
   "cell_type": "code",
   "execution_count": null,
   "id": "7a85c2a2",
   "metadata": {},
   "outputs": [],
   "source": []
  },
  {
   "cell_type": "markdown",
   "id": "41f05f6d",
   "metadata": {},
   "source": [
    "### 2. model.to_json()\n",
    "\n",
    "If we only need to save the architecture of a model, and not its weights or its training configuration, we can use the following function to save the architecture only."
   ]
  },
  {
   "cell_type": "code",
   "execution_count": 63,
   "id": "bbcc18db",
   "metadata": {},
   "outputs": [],
   "source": [
    "# save as JSON\n",
    "json_string = model.to_json()\n",
    "\n",
    "# saving as YAML\n",
    "# yaml_string = model.to_yaml()"
   ]
  },
  {
   "cell_type": "code",
   "execution_count": 64,
   "id": "9eb01198",
   "metadata": {},
   "outputs": [
    {
     "data": {
      "text/plain": [
       "'{\"class_name\": \"Sequential\", \"config\": {\"name\": \"sequential\", \"layers\": [{\"class_name\": \"InputLayer\", \"config\": {\"batch_input_shape\": [null, 1], \"dtype\": \"float32\", \"sparse\": false, \"ragged\": false, \"name\": \"dense_input\"}}, {\"class_name\": \"Dense\", \"config\": {\"name\": \"dense\", \"trainable\": true, \"batch_input_shape\": [null, 1], \"dtype\": \"float32\", \"units\": 16, \"activation\": \"relu\", \"use_bias\": true, \"kernel_initializer\": {\"class_name\": \"GlorotUniform\", \"config\": {\"seed\": null}}, \"bias_initializer\": {\"class_name\": \"Zeros\", \"config\": {}}, \"kernel_regularizer\": null, \"bias_regularizer\": null, \"activity_regularizer\": null, \"kernel_constraint\": null, \"bias_constraint\": null}}, {\"class_name\": \"Dense\", \"config\": {\"name\": \"dense_1\", \"trainable\": true, \"dtype\": \"float32\", \"units\": 32, \"activation\": \"relu\", \"use_bias\": true, \"kernel_initializer\": {\"class_name\": \"GlorotUniform\", \"config\": {\"seed\": null}}, \"bias_initializer\": {\"class_name\": \"Zeros\", \"config\": {}}, \"kernel_regularizer\": null, \"bias_regularizer\": null, \"activity_regularizer\": null, \"kernel_constraint\": null, \"bias_constraint\": null}}, {\"class_name\": \"Dense\", \"config\": {\"name\": \"dense_2\", \"trainable\": true, \"dtype\": \"float32\", \"units\": 2, \"activation\": \"softmax\", \"use_bias\": true, \"kernel_initializer\": {\"class_name\": \"GlorotUniform\", \"config\": {\"seed\": null}}, \"bias_initializer\": {\"class_name\": \"Zeros\", \"config\": {}}, \"kernel_regularizer\": null, \"bias_regularizer\": null, \"activity_regularizer\": null, \"kernel_constraint\": null, \"bias_constraint\": null}}]}, \"keras_version\": \"2.6.0\", \"backend\": \"tensorflow\"}'"
      ]
     },
     "execution_count": 64,
     "metadata": {},
     "output_type": "execute_result"
    }
   ],
   "source": [
    "json_string"
   ]
  },
  {
   "cell_type": "code",
   "execution_count": null,
   "id": "f5b60449",
   "metadata": {},
   "outputs": [],
   "source": []
  },
  {
   "cell_type": "code",
   "execution_count": 65,
   "id": "922f2b9a",
   "metadata": {},
   "outputs": [],
   "source": [
    "# model reconstruction from JSON:\n",
    "from tensorflow.keras.models import model_from_json\n",
    "model_architecture = model_from_json(json_string)\n",
    "\n",
    "# model reconstruction from YAML\n",
    "# from tensorflow.keras.models import model_from_yaml\n",
    "# model = model_from_yaml(yaml_string)"
   ]
  },
  {
   "cell_type": "code",
   "execution_count": 67,
   "id": "eda3c6e3",
   "metadata": {},
   "outputs": [
    {
     "name": "stdout",
     "output_type": "stream",
     "text": [
      "Model: \"sequential\"\n",
      "_________________________________________________________________\n",
      "Layer (type)                 Output Shape              Param #   \n",
      "=================================================================\n",
      "dense (Dense)                (None, 16)                32        \n",
      "_________________________________________________________________\n",
      "dense_1 (Dense)              (None, 32)                544       \n",
      "_________________________________________________________________\n",
      "dense_2 (Dense)              (None, 2)                 66        \n",
      "=================================================================\n",
      "Total params: 642\n",
      "Trainable params: 642\n",
      "Non-trainable params: 0\n",
      "_________________________________________________________________\n"
     ]
    }
   ],
   "source": [
    "model_architecture.summary()"
   ]
  },
  {
   "cell_type": "code",
   "execution_count": null,
   "id": "ee6e4524",
   "metadata": {},
   "outputs": [],
   "source": []
  },
  {
   "cell_type": "markdown",
   "id": "03b5c27c",
   "metadata": {},
   "source": [
    "## model.save_weights()"
   ]
  },
  {
   "cell_type": "markdown",
   "id": "70e8bdb9",
   "metadata": {},
   "source": [
    "If we only need to save the weights of a model, we can use the following function save the weights only."
   ]
  },
  {
   "cell_type": "code",
   "execution_count": 69,
   "id": "fa5d36f4",
   "metadata": {},
   "outputs": [],
   "source": [
    "# checks first to see if file exists already.\n",
    "# If not, the weights are saved to disk.\n",
    "import os.path\n",
    "if os.path.isfile('models/my_models_weights.h5') is False:\n",
    "    model.save_weights('models/my_model_weights.h5')"
   ]
  },
  {
   "cell_type": "code",
   "execution_count": 70,
   "id": "f9026763",
   "metadata": {},
   "outputs": [],
   "source": [
    "model2 = Sequential([\n",
    "    Dense(units=16, input_shape=(1,), activation='relu'),\n",
    "    Dense(units=32, activation='relu'),\n",
    "    Dense(units=2, activation='softmax')\n",
    "])"
   ]
  },
  {
   "cell_type": "code",
   "execution_count": 71,
   "id": "8614a4f0",
   "metadata": {},
   "outputs": [],
   "source": [
    "model2.load_weights('models/my_model_weights.h5')"
   ]
  },
  {
   "cell_type": "code",
   "execution_count": 72,
   "id": "3177494c",
   "metadata": {},
   "outputs": [
    {
     "data": {
      "text/plain": [
       "[array([[-0.42241406, -0.38203967, -0.02721258, -0.54164356,  0.6102464 ,\n",
       "          0.40460378, -0.23476765, -0.07084125, -0.56571007, -0.16572338,\n",
       "         -0.18442109, -0.56693935,  0.40097535,  0.48042542,  0.75630647,\n",
       "          0.12848113]], dtype=float32),\n",
       " array([ 0.        ,  0.        ,  0.28391182,  0.        , -0.18215708,\n",
       "        -0.16334262,  0.        ,  0.        ,  0.        ,  0.        ,\n",
       "         0.        ,  0.        , -0.14447428, -0.1541767 , -0.17822003,\n",
       "         0.2311643 ], dtype=float32),\n",
       " array([[-2.75583327e-01,  2.17083126e-01, -2.03240871e-01,\n",
       "          2.00031191e-01, -3.50714207e-01,  2.69574434e-01,\n",
       "          2.15771884e-01, -7.59751797e-02, -2.78102458e-02,\n",
       "         -3.51226717e-01,  2.82922238e-01, -5.49993515e-02,\n",
       "          1.26822561e-01, -3.27928692e-01, -3.12163144e-01,\n",
       "          3.02115530e-01,  3.03506881e-01,  1.16831481e-01,\n",
       "         -1.62134543e-01, -1.87349737e-01,  1.91782415e-02,\n",
       "         -1.47039562e-01, -1.08639479e-01, -1.61047906e-01,\n",
       "         -2.47979313e-01,  8.10793936e-02,  1.06322676e-01,\n",
       "          3.16771656e-01,  3.03309113e-01,  9.39836800e-02,\n",
       "         -2.58866519e-01,  3.32348794e-01],\n",
       "        [ 1.43940687e-01, -3.24063748e-01,  3.34839672e-01,\n",
       "         -3.42186213e-01,  1.59484416e-01, -3.38609368e-01,\n",
       "          2.33760744e-01, -2.85905004e-01, -5.03616929e-02,\n",
       "         -2.03310490e-01,  2.87299663e-01, -1.53944060e-01,\n",
       "         -3.19265306e-01,  1.79397136e-01, -1.87023431e-01,\n",
       "          3.43771547e-01,  1.44526601e-01,  1.38682842e-01,\n",
       "          1.29255056e-02,  6.57609105e-03,  2.85571367e-01,\n",
       "          1.41188741e-01,  1.86877698e-01,  1.32152289e-01,\n",
       "          2.68057853e-01,  1.79739445e-01, -1.91054866e-01,\n",
       "         -2.74671078e-01,  3.05698186e-01,  2.09427625e-01,\n",
       "          7.77872205e-02,  2.65352994e-01],\n",
       "        [-5.58365174e-02,  8.10920373e-02,  2.83793807e-01,\n",
       "          2.73252040e-01, -1.12313144e-01,  1.06498182e-01,\n",
       "          4.49238494e-02, -2.55245566e-02, -1.28138810e-01,\n",
       "          2.40680408e-02,  7.63835385e-02, -2.66263306e-01,\n",
       "         -2.85509944e-01,  1.77691534e-01, -3.18744123e-01,\n",
       "          4.39205825e-01,  1.17994942e-01,  2.73579061e-01,\n",
       "         -2.09012032e-01, -1.85329810e-01,  3.66316512e-02,\n",
       "         -5.62611334e-02, -2.99975902e-01,  1.77972198e-01,\n",
       "          2.34621808e-01,  2.43639097e-01,  5.74545413e-02,\n",
       "         -1.22013569e-01, -6.89574778e-02,  4.11292493e-01,\n",
       "         -1.17893666e-01, -1.03781179e-01],\n",
       "        [-2.34111905e-01, -1.88778684e-01,  3.22634012e-01,\n",
       "         -5.51796556e-02, -3.31909209e-01,  2.46929258e-01,\n",
       "         -1.03926629e-01, -1.87324286e-02,  2.99436897e-01,\n",
       "          2.62191743e-01,  6.14731014e-02,  1.32600665e-02,\n",
       "         -2.80629903e-01,  2.92542845e-01, -2.35853001e-01,\n",
       "         -2.17384756e-01, -2.46638894e-01, -2.19997868e-01,\n",
       "          6.72708452e-02,  1.80599719e-01, -7.35642016e-02,\n",
       "          1.09186053e-01,  3.25602025e-01,  4.91046906e-02,\n",
       "         -2.32720643e-01,  5.18981814e-02, -2.06474796e-01,\n",
       "          1.24096096e-01, -1.47536471e-01,  1.26463711e-01,\n",
       "         -2.98931330e-01, -7.75973201e-02],\n",
       "        [-4.40348126e-02,  4.62535881e-02, -1.14328042e-01,\n",
       "         -5.18266082e-01,  1.58195198e-01, -3.43302846e-01,\n",
       "          4.55452412e-01, -1.68122932e-01,  6.30165339e-02,\n",
       "          6.17448568e-01, -3.02764550e-02,  1.76624864e-01,\n",
       "          5.38548291e-01,  4.92304444e-01, -2.59106010e-01,\n",
       "         -5.63388586e-01, -1.40432552e-01, -1.34299830e-01,\n",
       "         -1.91828936e-01, -2.38173679e-01,  5.33822298e-01,\n",
       "          2.77167372e-02, -9.00400877e-02, -3.18054825e-01,\n",
       "          4.15930957e-01, -6.47472560e-01, -3.12806398e-01,\n",
       "          1.45113096e-01, -1.37037694e-01, -6.33630931e-01,\n",
       "          1.91948742e-01,  5.98856449e-01],\n",
       "        [-3.51837754e-01, -1.38592720e-01, -6.08019829e-02,\n",
       "         -5.81389666e-01,  1.12204596e-01,  1.31699711e-01,\n",
       "          3.09598725e-02, -3.10486555e-03,  2.81694025e-01,\n",
       "          3.20740759e-01, -5.89960217e-01, -1.70670152e-02,\n",
       "          2.59938061e-01,  6.45867527e-01,  1.94689035e-02,\n",
       "         -3.56656730e-01, -6.03943825e-01, -6.68695271e-02,\n",
       "         -1.39171585e-01, -1.66747764e-01,  2.56533355e-01,\n",
       "          1.30050272e-01,  1.61540538e-01, -6.85421228e-01,\n",
       "          3.50598484e-01, -2.73618072e-01,  3.91550064e-02,\n",
       "          6.17061377e-01, -2.90487468e-01, -3.45103264e-01,\n",
       "          1.19134724e-01,  4.97564167e-01],\n",
       "        [-2.65203059e-01,  2.71306366e-01,  3.53285760e-01,\n",
       "          5.81408143e-02, -1.17985636e-01, -2.41890192e-01,\n",
       "         -1.18004769e-01, -1.66849762e-01,  1.94451898e-01,\n",
       "          2.80578643e-01, -2.35770479e-01,  2.89422423e-01,\n",
       "         -5.49582243e-02, -2.67753184e-01, -1.50949657e-02,\n",
       "          2.47754425e-01,  6.17185831e-02, -3.32897633e-01,\n",
       "          1.43898726e-02,  1.75421983e-01, -1.05295047e-01,\n",
       "          3.29920560e-01,  2.33054847e-01, -7.85294473e-02,\n",
       "          1.39704913e-01,  1.38828456e-02, -3.46597135e-01,\n",
       "         -5.14854789e-02,  2.69882977e-02,  1.87323958e-01,\n",
       "          1.17395580e-01, -4.57541943e-02],\n",
       "        [ 6.10923469e-02, -2.91015804e-01, -2.09474221e-01,\n",
       "         -3.16171229e-01,  1.19622529e-01, -3.31704468e-01,\n",
       "         -1.62415653e-01,  8.73952806e-02, -6.41911626e-02,\n",
       "          2.70827442e-01, -1.65101171e-01, -1.68808326e-01,\n",
       "         -2.29948997e-01,  3.22855324e-01,  8.04125667e-02,\n",
       "         -1.46239191e-01, -2.02220917e-01, -2.63619006e-01,\n",
       "          2.53799707e-01, -2.37985134e-01,  3.38757038e-02,\n",
       "         -1.57520384e-01, -5.86183369e-02,  7.07557797e-02,\n",
       "         -4.18927073e-02,  1.69963390e-01,  1.82964116e-01,\n",
       "         -1.15926340e-01, -2.69428611e-01,  1.62200332e-02,\n",
       "          1.93257719e-01,  2.65046924e-01],\n",
       "        [-6.08760715e-02,  6.18735850e-02, -3.37061077e-01,\n",
       "          5.21150827e-02,  2.59209126e-01,  9.33759212e-02,\n",
       "          2.98375815e-01,  1.15173936e-01,  1.79723352e-01,\n",
       "          1.31624937e-01,  2.30501622e-01, -4.64631915e-02,\n",
       "          1.95343167e-01,  1.99748605e-01, -9.01943445e-02,\n",
       "          3.19210857e-01,  3.04133445e-01,  2.37553149e-01,\n",
       "          1.56392962e-01,  1.05589241e-01, -2.82908112e-01,\n",
       "          7.82414973e-02, -1.61095783e-01,  1.36792898e-01,\n",
       "          1.99536234e-01,  1.79997891e-01,  2.92334586e-01,\n",
       "         -8.12057555e-02, -3.17658186e-01, -2.54816294e-01,\n",
       "         -2.96246707e-02,  8.14916193e-02],\n",
       "        [ 3.00203413e-01, -1.74639851e-01, -3.43169868e-02,\n",
       "          1.25118405e-01,  2.90352136e-01,  6.37117028e-02,\n",
       "         -6.86219037e-02, -1.64790466e-01, -1.32343635e-01,\n",
       "         -1.87636003e-01, -2.41139561e-01, -1.23266965e-01,\n",
       "         -2.04376310e-01, -1.23609900e-02,  2.81545430e-01,\n",
       "          3.19082350e-01,  2.63574094e-01,  2.89619714e-01,\n",
       "         -3.09498042e-01,  2.58199364e-01,  1.96841568e-01,\n",
       "          2.59921879e-01, -1.65940985e-01, -2.93938100e-01,\n",
       "          2.71205217e-01,  2.51812845e-01,  3.20948571e-01,\n",
       "         -1.45039439e-01, -2.62835413e-01,  1.40679866e-01,\n",
       "          2.70045251e-01,  1.61828309e-01],\n",
       "        [ 2.90656358e-01, -2.17905194e-01,  3.22680384e-01,\n",
       "         -1.83565110e-01,  3.50940555e-01,  3.00866395e-01,\n",
       "         -2.70705909e-01, -2.98006952e-01, -2.51628458e-02,\n",
       "         -2.08544791e-01, -1.32757008e-01, -2.41538197e-01,\n",
       "         -2.50381440e-01,  3.30812782e-01,  1.34099633e-01,\n",
       "          1.47705466e-01,  9.53148305e-02, -2.94073820e-02,\n",
       "         -2.18243718e-01, -2.80950636e-01, -6.86675012e-02,\n",
       "         -3.40593636e-01, -2.56097734e-01,  7.51119256e-02,\n",
       "         -6.67344630e-02,  2.81394333e-01,  1.03584230e-02,\n",
       "         -2.38774791e-01,  3.35224956e-01,  1.12674952e-01,\n",
       "         -2.83234656e-01,  3.14686686e-01],\n",
       "        [ 8.50967765e-02, -1.02290481e-01, -2.33544528e-01,\n",
       "         -1.63871050e-02,  8.51309896e-02,  2.40914494e-01,\n",
       "         -3.06043774e-01,  8.71112049e-02, -2.58000165e-01,\n",
       "         -1.96817100e-01, -9.87172723e-02, -2.28535891e-01,\n",
       "          2.99526006e-01, -2.05134019e-01,  2.48457283e-01,\n",
       "          4.78736758e-02,  1.93588138e-02, -3.25271785e-02,\n",
       "          8.43288600e-02,  1.75982922e-01, -2.05034211e-01,\n",
       "         -6.08306229e-02,  1.25609398e-01,  3.10612768e-01,\n",
       "         -2.54254490e-01, -2.46157572e-01, -3.51488203e-01,\n",
       "         -2.86303371e-01,  3.19033861e-02,  7.70724118e-02,\n",
       "         -1.72451407e-01,  2.29391187e-01],\n",
       "        [-1.74315438e-01, -1.47520438e-01,  1.36427581e-02,\n",
       "         -5.33436686e-02,  3.50165665e-01, -1.34168506e-01,\n",
       "          4.62673567e-02, -8.11395049e-03,  1.63938612e-01,\n",
       "          6.24081016e-01, -6.13038301e-01, -1.00225806e-01,\n",
       "          6.38465285e-01,  5.19240797e-01,  1.83460504e-01,\n",
       "          8.42982382e-02, -6.51882648e-01,  3.03077102e-02,\n",
       "         -1.83696032e-01,  5.86755499e-02, -6.14856482e-02,\n",
       "          3.18472624e-01,  2.21315116e-01, -2.22015798e-01,\n",
       "          1.02706477e-01, -3.50951105e-01, -2.85642266e-01,\n",
       "          3.98909062e-01, -1.77397594e-01, -4.65721518e-01,\n",
       "         -3.19340587e-01,  5.27958989e-01],\n",
       "        [ 3.13500702e-01, -3.02166402e-01,  3.10033113e-01,\n",
       "         -4.63536978e-01,  5.43485582e-01, -2.66768992e-01,\n",
       "          5.02545357e-01, -1.89433992e-02,  7.33440220e-02,\n",
       "          5.76497495e-01, -6.01417124e-01,  1.19510591e-01,\n",
       "          4.14754093e-01,  3.81160080e-01, -1.45504236e-01,\n",
       "          6.57040849e-02,  1.39935631e-02, -1.20299071e-01,\n",
       "          2.34837443e-01, -1.58385202e-01,  1.38825327e-01,\n",
       "          5.75877845e-01, -1.29247695e-01, -5.91935754e-01,\n",
       "          5.33307672e-01, -6.03118360e-01, -2.29264855e-01,\n",
       "          6.23851061e-01,  3.30119878e-01, -3.33367020e-01,\n",
       "          6.55605197e-02,  4.66932267e-01],\n",
       "        [-1.75547257e-01, -4.05225786e-04, -2.51870245e-01,\n",
       "         -4.94383007e-01,  5.52526951e-01,  3.13081175e-01,\n",
       "          4.76900876e-01, -2.58180797e-01, -2.90403485e-01,\n",
       "         -5.68519086e-02, -2.78913468e-01, -3.37595075e-01,\n",
       "          6.29707456e-01, -4.41130958e-02,  2.89153457e-02,\n",
       "         -1.66242048e-02, -1.71725918e-02,  1.43182188e-01,\n",
       "         -1.00553542e-01,  5.78186326e-02,  4.29282814e-01,\n",
       "          4.91128027e-01, -1.19215310e-01, -4.36696082e-01,\n",
       "          1.48402393e-01, -2.57595628e-01, -2.74265677e-01,\n",
       "          3.68409902e-01, -2.72475004e-01, -3.49855155e-01,\n",
       "         -2.26631194e-01,  5.30751050e-01],\n",
       "        [ 1.00427426e-01,  1.15235336e-01, -1.98296949e-01,\n",
       "          3.49213362e-01, -4.81119230e-02, -2.43751571e-01,\n",
       "          3.34110647e-01, -1.79755121e-01, -2.97197163e-01,\n",
       "          1.67073123e-02,  2.42340162e-01, -2.65870571e-01,\n",
       "         -1.63280174e-01, -2.46390663e-02, -3.43857825e-01,\n",
       "         -6.61575496e-02, -1.30492300e-01, -3.26703697e-01,\n",
       "         -1.80155441e-01,  2.64901459e-01,  1.71002999e-01,\n",
       "         -1.48184597e-01,  1.04116708e-01,  3.62445384e-01,\n",
       "         -1.39141783e-01,  2.11225301e-01, -9.55720339e-03,\n",
       "         -1.73931330e-01, -1.23609707e-01,  2.21386090e-01,\n",
       "         -1.72414497e-01,  3.02041858e-01]], dtype=float32),\n",
       " array([-0.01288681,  0.15782225, -0.03633998,  0.25533822, -0.10342656,\n",
       "         0.        , -0.19312355,  0.        ,  0.        , -0.12192218,\n",
       "         0.25327128,  0.        , -0.07417894, -0.13522409,  0.        ,\n",
       "         0.17963228,  0.19603537, -0.00681943,  0.        , -0.0252506 ,\n",
       "        -0.16581857, -0.07827751,  0.        ,  0.26779363, -0.12804908,\n",
       "         0.28716427, -0.01658408, -0.06284888,  0.        ,  0.2424693 ,\n",
       "         0.        , -0.16825867], dtype=float32),\n",
       " array([[-0.28099242, -0.08700129],\n",
       "        [-0.04933285, -0.3209733 ],\n",
       "        [-0.3511936 ,  0.33878553],\n",
       "        [ 0.9601517 , -0.58806515],\n",
       "        [-0.5608393 ,  0.19061133],\n",
       "        [-0.3111896 ,  0.28506294],\n",
       "        [-0.45401403,  0.44734168],\n",
       "        [ 0.32213643, -0.32993585],\n",
       "        [-0.07129833, -0.300521  ],\n",
       "        [-0.6404789 ,  0.21153964],\n",
       "        [ 0.7566264 , -0.55842465],\n",
       "        [-0.21373156, -0.10973334],\n",
       "        [-0.27292126,  0.44699675],\n",
       "        [-0.6159503 ,  0.23955193],\n",
       "        [-0.23647183, -0.06820983],\n",
       "        [ 0.5097289 , -0.31063443],\n",
       "        [ 0.5935744 , -0.20841089],\n",
       "        [-0.32651475,  0.36746287],\n",
       "        [-0.29568017,  0.3750666 ],\n",
       "        [ 0.02032917,  0.2671865 ],\n",
       "        [-0.40334055,  0.2561909 ],\n",
       "        [-0.66857743,  0.5557261 ],\n",
       "        [-0.3680087 ,  0.08214459],\n",
       "        [ 0.64766055, -0.45160538],\n",
       "        [-0.38275862,  0.44868445],\n",
       "        [ 0.6909715 , -0.43128988],\n",
       "        [-0.14354947, -0.00258989],\n",
       "        [-0.53380233,  0.47057423],\n",
       "        [ 0.13660744, -0.15159076],\n",
       "        [ 0.59910685, -0.7917995 ],\n",
       "        [-0.02121651,  0.22979203],\n",
       "        [-0.04820265,  0.6699906 ]], dtype=float32),\n",
       " array([ 0.16436677, -0.16436674], dtype=float32)]"
      ]
     },
     "execution_count": 72,
     "metadata": {},
     "output_type": "execute_result"
    }
   ],
   "source": [
    "model2.get_weights()"
   ]
  },
  {
   "cell_type": "code",
   "execution_count": null,
   "id": "72443cb8",
   "metadata": {},
   "outputs": [],
   "source": []
  },
  {
   "cell_type": "code",
   "execution_count": null,
   "id": "5db8fe8d",
   "metadata": {},
   "outputs": [],
   "source": []
  },
  {
   "cell_type": "code",
   "execution_count": null,
   "id": "2c6eedfe",
   "metadata": {},
   "outputs": [],
   "source": []
  },
  {
   "cell_type": "code",
   "execution_count": null,
   "id": "ee6924f1",
   "metadata": {},
   "outputs": [],
   "source": []
  }
 ],
 "metadata": {
  "kernelspec": {
   "display_name": "Python 3 (ipykernel)",
   "language": "python",
   "name": "python3"
  },
  "language_info": {
   "codemirror_mode": {
    "name": "ipython",
    "version": 3
   },
   "file_extension": ".py",
   "mimetype": "text/x-python",
   "name": "python",
   "nbconvert_exporter": "python",
   "pygments_lexer": "ipython3",
   "version": "3.9.7"
  }
 },
 "nbformat": 4,
 "nbformat_minor": 5
}
